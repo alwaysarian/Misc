{
 "cells": [
  {
   "cell_type": "code",
   "execution_count": 4,
   "metadata": {},
   "outputs": [
    {
     "data": {
      "text/plain": [
       "2"
      ]
     },
     "execution_count": 4,
     "metadata": {},
     "output_type": "execute_result"
    }
   ],
   "source": [
    "def add_number(x,y,z,a):\n",
    "    return x+y+z-a\n",
    "add_number(1,2,3,4,)"
   ]
  },
  {
   "cell_type": "code",
   "execution_count": 8,
   "metadata": {},
   "outputs": [
    {
     "name": "stdout",
     "output_type": "stream",
     "text": [
      "5\n",
      "14\n",
      "5\n",
      "-1\n"
     ]
    }
   ],
   "source": [
    "def one_more(x,y,z=None, a=None):\n",
    "    if (z==None):\n",
    "        return x + y\n",
    "    if (a == None):\n",
    "        return x-y \n",
    "    else:\n",
    "        return x+y+z+a\n",
    "print(one_more(2,3))\n",
    "print(one_more(2,3,4,5))\n",
    "print(one_more(2,3,None,5))\n",
    "print(one_more(2,3,5,None))"
   ]
  },
  {
   "cell_type": "code",
   "execution_count": 9,
   "metadata": {},
   "outputs": [
    {
     "data": {
      "text/plain": [
       "7"
      ]
     },
     "execution_count": 9,
     "metadata": {},
     "output_type": "execute_result"
    }
   ],
   "source": [
    "def try_this(x,y):\n",
    "    return x+y\n",
    "\n",
    "z = try_this\n",
    "z(3,4)"
   ]
  }
 ],
 "metadata": {
  "kernelspec": {
   "display_name": "Python 3",
   "language": "python",
   "name": "python3"
  },
  "language_info": {
   "codemirror_mode": {
    "name": "ipython",
    "version": 3
   },
   "file_extension": ".py",
   "mimetype": "text/x-python",
   "name": "python",
   "nbconvert_exporter": "python",
   "pygments_lexer": "ipython3",
   "version": "3.6.1"
  }
 },
 "nbformat": 4,
 "nbformat_minor": 2
}
